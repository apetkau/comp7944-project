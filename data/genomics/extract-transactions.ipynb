{
 "cells": [
  {
   "cell_type": "code",
   "execution_count": 18,
   "metadata": {},
   "outputs": [
    {
     "name": "stdout",
     "output_type": "stream",
     "text": [
      "29785\n"
     ]
    }
   ],
   "source": [
    "from Bio import SeqIO\n",
    "\n",
    "kmer_size = 31\n",
    "\n",
    "def build_kmer_table(record):\n",
    "    kmers = set()\n",
    "    \n",
    "    seq_length = len(record.seq)\n",
    "    max_start = seq_length - kmer_size + 1\n",
    "    \n",
    "    sequence = record.seq\n",
    "    \n",
    "    for start in range(0, max_start):\n",
    "        stop = start + kmer_size\n",
    "        kmer = sequence[start : stop]\n",
    "        kmers.add(str(kmer))\n",
    "        \n",
    "    return kmers\n",
    "\n",
    "for record in SeqIO.parse('files/MT259282.gb', 'genbank'):\n",
    "    kmers = build_kmer_table(record)\n",
    "    print(len(kmers))\n"
   ]
  }
 ],
 "metadata": {
  "kernelspec": {
   "display_name": "Python 3",
   "language": "python",
   "name": "python3"
  },
  "language_info": {
   "codemirror_mode": {
    "name": "ipython",
    "version": 3
   },
   "file_extension": ".py",
   "mimetype": "text/x-python",
   "name": "python",
   "nbconvert_exporter": "python",
   "pygments_lexer": "ipython3",
   "version": "3.8.2"
  }
 },
 "nbformat": 4,
 "nbformat_minor": 4
}

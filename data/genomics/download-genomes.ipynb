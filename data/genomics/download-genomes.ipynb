{
 "cells": [
  {
   "cell_type": "markdown",
   "metadata": {},
   "source": [
    "# Download genomes\n",
    "\n",
    "First, let's read in a list of covid-19 genomes IDs."
   ]
  },
  {
   "cell_type": "code",
   "execution_count": 47,
   "metadata": {},
   "outputs": [],
   "source": [
    "import yaml\n",
    "from Bio import Entrez\n",
    "import time\n",
    "\n",
    "Entrez.email = '[your-email]'\n",
    "\n",
    "with open('ncov-sequences.yaml') as f:\n",
    "    ncbi_genomes = yaml.safe_load(f)"
   ]
  },
  {
   "cell_type": "markdown",
   "metadata": {},
   "source": [
    "Now, let's pull out the specific genome identifiers we want."
   ]
  },
  {
   "cell_type": "code",
   "execution_count": 45,
   "metadata": {},
   "outputs": [
    {
     "name": "stdout",
     "output_type": "stream",
     "text": [
      "Wrote 337 files\n"
     ]
    }
   ],
   "source": [
    "file_count = 0\n",
    "for genome in ncbi_genomes['genbank-sequences']:\n",
    "    if genome['gene-region'] != 'complete':\n",
    "        continue\n",
    "    accession = genome['accession']    \n",
    "    record = Entrez.efetch(db=\"nucleotide\", id=accession, rettype=\"gb\", retmode=\"text\")\n",
    "\n",
    "    filename = f\"files/{accession}.gb\"\n",
    "    with open(filename, 'w') as f:\n",
    "        f.write(record.read())\n",
    "    \n",
    "    # Add extra rate limit (though I don't think it's needed)\n",
    "    time.sleep(1)\n",
    "    file_count += 1\n",
    "print(f\"Wrote {file_count} files\")"
   ]
  },
  {
   "cell_type": "markdown",
   "metadata": {},
   "source": [
    "Awesome, we've downloaded all the files."
   ]
  }
 ],
 "metadata": {
  "kernelspec": {
   "display_name": "Python 3",
   "language": "python",
   "name": "python3"
  },
  "language_info": {
   "codemirror_mode": {
    "name": "ipython",
    "version": 3
   },
   "file_extension": ".py",
   "mimetype": "text/x-python",
   "name": "python",
   "nbconvert_exporter": "python",
   "pygments_lexer": "ipython3",
   "version": "3.8.2"
  }
 },
 "nbformat": 4,
 "nbformat_minor": 4
}
